{
 "cells": [
  {
   "cell_type": "markdown",
   "metadata": {
    "id": "ncGugkc-k2dB"
   },
   "source": [
    "## 모듈과 패키지"
   ]
  },
  {
   "cell_type": "code",
   "execution_count": 2,
   "metadata": {
    "executionInfo": {
     "elapsed": 541,
     "status": "ok",
     "timestamp": 1687415104846,
     "user": {
      "displayName": "ppen hyuk",
      "userId": "06590780498642875598"
     },
     "user_tz": -540
    },
    "id": "fgSr19tek4HK"
   },
   "outputs": [],
   "source": [
    "# 모듈은 변수, 함수, 클래스를 담고 있는 파일 (.py)\n",
    "# 패키지는 여러 모듈을 묶은 것 (폴더)\n",
    "# import 모듈\n",
    "# import 모듈1, 모듈2\n",
    "# 모듈.변수\n",
    "# 모듈.함수()\n",
    "# 모듈.클래스()"
   ]
  },
  {
   "cell_type": "code",
   "execution_count": 3,
   "metadata": {
    "colab": {
     "base_uri": "https://localhost:8080/"
    },
    "executionInfo": {
     "elapsed": 28,
     "status": "ok",
     "timestamp": 1687415104846,
     "user": {
      "displayName": "ppen hyuk",
      "userId": "06590780498642875598"
     },
     "user_tz": -540
    },
    "id": "aGeXVCyXlC2S",
    "outputId": "7bc2b2b2-8f16-40a3-9795-4850072aa08b"
   },
   "outputs": [
    {
     "name": "stdout",
     "output_type": "stream",
     "text": [
      "3.141592653589793\n",
      "2.0\n"
     ]
    }
   ],
   "source": [
    "import math # math라는 모듈이 있어요\n",
    "print(math.pi)\n",
    "print(math.sqrt(4)) # sqrt는 제곱근 구해줌"
   ]
  },
  {
   "cell_type": "code",
   "execution_count": 4,
   "metadata": {
    "colab": {
     "base_uri": "https://localhost:8080/"
    },
    "executionInfo": {
     "elapsed": 27,
     "status": "ok",
     "timestamp": 1687415104846,
     "user": {
      "displayName": "ppen hyuk",
      "userId": "06590780498642875598"
     },
     "user_tz": -540
    },
    "id": "se3WfMGwwQBk",
    "outputId": "12e8e8a1-a703-40a9-bf0a-15aea6509bdd"
   },
   "outputs": [
    {
     "name": "stdout",
     "output_type": "stream",
     "text": [
      "3.141592653589793\n",
      "2.0\n"
     ]
    }
   ],
   "source": [
    "import math as m # math를 가져오는 데 m 이라는 이름으로 가져온다\n",
    "print(m.pi)\n",
    "print(m.sqrt(4))"
   ]
  },
  {
   "cell_type": "code",
   "execution_count": 5,
   "metadata": {
    "colab": {
     "base_uri": "https://localhost:8080/"
    },
    "executionInfo": {
     "elapsed": 27,
     "status": "ok",
     "timestamp": 1687415104847,
     "user": {
      "displayName": "ppen hyuk",
      "userId": "06590780498642875598"
     },
     "user_tz": -540
    },
    "id": "Nf7ndOTjwYdr",
    "outputId": "08397751-5dbe-4f10-c1f0-a5bc812a915c"
   },
   "outputs": [
    {
     "name": "stdout",
     "output_type": "stream",
     "text": [
      "3.141592653589793\n",
      "2.0\n"
     ]
    }
   ],
   "source": [
    "from math import pi, sqrt\n",
    "print(pi) # math.pi 는 오히려 안됨\n",
    "print(sqrt(4))"
   ]
  },
  {
   "cell_type": "code",
   "execution_count": 6,
   "metadata": {
    "colab": {
     "base_uri": "https://localhost:8080/"
    },
    "executionInfo": {
     "elapsed": 25,
     "status": "ok",
     "timestamp": 1687415104847,
     "user": {
      "displayName": "ppen hyuk",
      "userId": "06590780498642875598"
     },
     "user_tz": -540
    },
    "id": "DUnWDPLmxH9L",
    "outputId": "fbebdb22-6f8b-4561-d403-d485b478b5f6"
   },
   "outputs": [
    {
     "name": "stdout",
     "output_type": "stream",
     "text": [
      "3.141592653589793\n",
      "2.0\n",
      "1.2246467991473532e-16\n"
     ]
    }
   ],
   "source": [
    "from math import * # * 이 all 이란 뜻\n",
    "print(pi)\n",
    "print(sqrt(4))\n",
    "print(sin(pi))"
   ]
  },
  {
   "cell_type": "code",
   "execution_count": 7,
   "metadata": {
    "colab": {
     "base_uri": "https://localhost:8080/"
    },
    "executionInfo": {
     "elapsed": 24,
     "status": "ok",
     "timestamp": 1687415104847,
     "user": {
      "displayName": "ppen hyuk",
      "userId": "06590780498642875598"
     },
     "user_tz": -540
    },
    "id": "67eY84z4xOcD",
    "outputId": "9d3f1506-da23-4391-a2fc-228a9e784ef7"
   },
   "outputs": [
    {
     "name": "stdout",
     "output_type": "stream",
     "text": [
      "2.0\n"
     ]
    }
   ],
   "source": [
    "from math import sqrt as s\n",
    "print(s(4))"
   ]
  },
  {
   "cell_type": "code",
   "execution_count": 8,
   "metadata": {
    "colab": {
     "base_uri": "https://localhost:8080/"
    },
    "executionInfo": {
     "elapsed": 23,
     "status": "ok",
     "timestamp": 1687415104847,
     "user": {
      "displayName": "ppen hyuk",
      "userId": "06590780498642875598"
     },
     "user_tz": -540
    },
    "id": "WdGIaNm4xTtL",
    "outputId": "f9629849-1faa-4ec1-96bd-26a220965521"
   },
   "outputs": [
    {
     "name": "stdout",
     "output_type": "stream",
     "text": [
      "3.141592653589793\n",
      "2.0\n"
     ]
    }
   ],
   "source": [
    "from math import sqrt as s, pi as p\n",
    "print(p)\n",
    "print(s(4))"
   ]
  },
  {
   "cell_type": "code",
   "execution_count": 9,
   "metadata": {
    "executionInfo": {
     "elapsed": 22,
     "status": "ok",
     "timestamp": 1687415104848,
     "user": {
      "displayName": "ppen hyuk",
      "userId": "06590780498642875598"
     },
     "user_tz": -540
    },
    "id": "3NtPP0KjxlRE"
   },
   "outputs": [],
   "source": [
    "# import 패키지\n",
    "# import 패키지.모듈1\n",
    "# import 패키지.모듈1, 패키지.모듈2\n",
    "# 패키지.모듈.변수\n",
    "# 패키지.모듈.함수()\n",
    "# 패키지.모듈.클래스()"
   ]
  },
  {
   "cell_type": "code",
   "execution_count": 10,
   "metadata": {
    "colab": {
     "base_uri": "https://localhost:8080/"
    },
    "executionInfo": {
     "elapsed": 22,
     "status": "ok",
     "timestamp": 1687415104848,
     "user": {
      "displayName": "ppen hyuk",
      "userId": "06590780498642875598"
     },
     "user_tz": -540
    },
    "id": "nrBmqBvJ8ILu",
    "outputId": "a0fd2da3-babc-4e70-ff8f-f53b1d428cbd"
   },
   "outputs": [
    {
     "data": {
      "text/plain": [
       "array([1, 2, 3])"
      ]
     },
     "execution_count": 10,
     "metadata": {},
     "output_type": "execute_result"
    }
   ],
   "source": [
    "import numpy as np # numpy는 라이브러리(패키지와 모듈들을 모아놓음)다 (numerical python)\n",
    "a=np.array([1,2,3])\n",
    "a"
   ]
  },
  {
   "cell_type": "code",
   "execution_count": 11,
   "metadata": {
    "colab": {
     "base_uri": "https://localhost:8080/"
    },
    "executionInfo": {
     "elapsed": 20,
     "status": "ok",
     "timestamp": 1687415104848,
     "user": {
      "displayName": "ppen hyuk",
      "userId": "06590780498642875598"
     },
     "user_tz": -540
    },
    "id": "0-EWmJJtyHwD",
    "outputId": "b08f83b1-bf2c-46ac-f272-2ad2f4fb9b33"
   },
   "outputs": [
    {
     "data": {
      "text/plain": [
       "array([[-1.61745231, -0.1314394 , -0.4981445 ],\n",
       "       [ 0.95770658,  0.47166037,  0.57451499],\n",
       "       [-0.45361739,  0.67274056, -0.85514299]])"
      ]
     },
     "execution_count": 11,
     "metadata": {},
     "output_type": "execute_result"
    }
   ],
   "source": [
    "import numpy.random\n",
    "numpy.random.randn(3,3) # Normal distribution, (3,3)은 3행 3열 짜리를 의미"
   ]
  },
  {
   "cell_type": "code",
   "execution_count": 12,
   "metadata": {
    "colab": {
     "base_uri": "https://localhost:8080/"
    },
    "executionInfo": {
     "elapsed": 19,
     "status": "ok",
     "timestamp": 1687415104848,
     "user": {
      "displayName": "ppen hyuk",
      "userId": "06590780498642875598"
     },
     "user_tz": -540
    },
    "id": "fzGcPAIUyz7r",
    "outputId": "abb70bd6-1a40-4794-a2de-340bc9bd642e"
   },
   "outputs": [
    {
     "data": {
      "text/plain": [
       "array([[ 0.38408165,  0.36066395, -0.37572119],\n",
       "       [ 2.13808044, -0.89184403, -0.08588212],\n",
       "       [-0.09357205, -1.51853837,  0.20051003]])"
      ]
     },
     "execution_count": 12,
     "metadata": {},
     "output_type": "execute_result"
    }
   ],
   "source": [
    "import numpy.random as nr\n",
    "nr.randn(3,3)"
   ]
  },
  {
   "cell_type": "code",
   "execution_count": 13,
   "metadata": {
    "colab": {
     "base_uri": "https://localhost:8080/"
    },
    "executionInfo": {
     "elapsed": 18,
     "status": "ok",
     "timestamp": 1687415104849,
     "user": {
      "displayName": "ppen hyuk",
      "userId": "06590780498642875598"
     },
     "user_tz": -540
    },
    "id": "5w8d1hqPy6ID",
    "outputId": "4ae70958-88ad-4d57-d93e-5a39089e72ea"
   },
   "outputs": [
    {
     "data": {
      "text/plain": [
       "array([[-3.08603302, -1.56390233, -1.08678506],\n",
       "       [-0.03591224, -0.94274228,  0.27006817],\n",
       "       [ 1.87825652,  0.95420647, -0.50622966]])"
      ]
     },
     "execution_count": 13,
     "metadata": {},
     "output_type": "execute_result"
    }
   ],
   "source": [
    "from numpy.random import randn\n",
    "randn(3,3)"
   ]
  },
  {
   "cell_type": "code",
   "execution_count": 14,
   "metadata": {
    "colab": {
     "base_uri": "https://localhost:8080/"
    },
    "executionInfo": {
     "elapsed": 17,
     "status": "ok",
     "timestamp": 1687415104849,
     "user": {
      "displayName": "ppen hyuk",
      "userId": "06590780498642875598"
     },
     "user_tz": -540
    },
    "id": "pfkRbW6uzRwj",
    "outputId": "c1285613-e264-43b6-ada5-452120fb5e6c"
   },
   "outputs": [
    {
     "data": {
      "text/plain": [
       "array([[0.75562201, 0.78074808, 0.34645506],\n",
       "       [0.80024933, 0.32310966, 0.07953475],\n",
       "       [0.72713325, 0.79575328, 0.34326283]])"
      ]
     },
     "execution_count": 14,
     "metadata": {},
     "output_type": "execute_result"
    }
   ],
   "source": [
    "from numpy.random import *\n",
    "rand(3,3) # uniform distribution"
   ]
  },
  {
   "cell_type": "code",
   "execution_count": 15,
   "metadata": {
    "colab": {
     "base_uri": "https://localhost:8080/"
    },
    "executionInfo": {
     "elapsed": 16,
     "status": "ok",
     "timestamp": 1687415104849,
     "user": {
      "displayName": "ppen hyuk",
      "userId": "06590780498642875598"
     },
     "user_tz": -540
    },
    "id": "5cAfOB76zSp8",
    "outputId": "aa4c5438-6ee8-4ce5-f7fa-bdd446f0b65d"
   },
   "outputs": [
    {
     "data": {
      "text/plain": [
       "array([[ 0.32450821,  0.94435911, -0.57110724],\n",
       "       [ 1.37995017, -0.19519845,  2.43090846],\n",
       "       [ 0.63933871,  0.62489017,  1.46018497]])"
      ]
     },
     "execution_count": 15,
     "metadata": {},
     "output_type": "execute_result"
    }
   ],
   "source": [
    "from numpy.random import randn as rn\n",
    "rn(3,3)"
   ]
  },
  {
   "cell_type": "code",
   "execution_count": 16,
   "metadata": {
    "colab": {
     "base_uri": "https://localhost:8080/"
    },
    "executionInfo": {
     "elapsed": 15,
     "status": "ok",
     "timestamp": 1687415104849,
     "user": {
      "displayName": "ppen hyuk",
      "userId": "06590780498642875598"
     },
     "user_tz": -540
    },
    "id": "7-vaaPLs6uIV",
    "outputId": "7c9a50bd-bd06-483c-9eb5-27731fa15198"
   },
   "outputs": [
    {
     "name": "stdout",
     "output_type": "stream",
     "text": [
      "[[-1.88131625 -0.41605164  0.10857931]\n",
      " [ 0.71973387 -1.52939011  0.02532643]\n",
      " [ 0.61412274 -1.00049768 -0.41240306]]\n",
      "[[0.01185908 0.50832913 0.42434865]\n",
      " [0.37706827 0.3860401  0.91922213]\n",
      " [0.40407336 0.97778897 0.37820325]]\n"
     ]
    }
   ],
   "source": [
    "from numpy.random import randn as rn, rand as r\n",
    "print(rn(3,3))\n",
    "print(r(3,3))"
   ]
  },
  {
   "cell_type": "markdown",
   "metadata": {
    "id": "NHriKdl-jxVo"
   },
   "source": [
    "## numpy 본격적으로"
   ]
  },
  {
   "cell_type": "code",
   "execution_count": 17,
   "metadata": {
    "colab": {
     "base_uri": "https://localhost:8080/"
    },
    "executionInfo": {
     "elapsed": 15,
     "status": "ok",
     "timestamp": 1687415104850,
     "user": {
      "displayName": "ppen hyuk",
      "userId": "06590780498642875598"
     },
     "user_tz": -540
    },
    "id": "Kf2BAGfBAcyO",
    "outputId": "92cf92c2-807e-4bec-c3e8-8ca5e890446e"
   },
   "outputs": [
    {
     "name": "stdout",
     "output_type": "stream",
     "text": [
      "[1 2 3 4]\n",
      "<class 'numpy.ndarray'>\n",
      "int64\n",
      "(4,)\n",
      "float64\n",
      "[1.  2.  3.1 4. ]\n"
     ]
    }
   ],
   "source": [
    "import numpy as np\n",
    "a=np.array([1,2,3,4]) # list가 입력으로 들어가는 함수\n",
    "print(a)\n",
    "print(type(a))\n",
    "print(a.dtype) # data type\n",
    "print(a.shape)\n",
    "b=np.array([1,2,3.1,4])\n",
    "print(b.dtype) # 하나라도 실수면 자동으로 실수 타입으로\n",
    "print(b)"
   ]
  },
  {
   "cell_type": "code",
   "execution_count": 18,
   "metadata": {
    "colab": {
     "base_uri": "https://localhost:8080/"
    },
    "executionInfo": {
     "elapsed": 474,
     "status": "ok",
     "timestamp": 1687415105311,
     "user": {
      "displayName": "ppen hyuk",
      "userId": "06590780498642875598"
     },
     "user_tz": -540
    },
    "id": "S58mLOqPEuXY",
    "outputId": "a75336b4-39b0-41d4-a860-dadad0de32c9"
   },
   "outputs": [
    {
     "name": "stdout",
     "output_type": "stream",
     "text": [
      "[[1 2 3]\n",
      " [3 4 5]]\n",
      "(2, 3)\n",
      "2\n",
      "6\n"
     ]
    }
   ],
   "source": [
    "A=np.array([[1,2,3],[3,4,5]]) # 이 셀부터는 import numpy as np 는 실행 했다 치고 작성\n",
    "# A=np.array([[1,2],[3,4,5]]) # 리스트와는 달리 이제는 행렬이라서 각 행에 해당하는 숫자의 개수가 같아야 함\n",
    "print(A)\n",
    "print(A.shape)\n",
    "print(A.ndim) # 차원의 수\n",
    "print(A.size) # 전체 성분의 수"
   ]
  },
  {
   "cell_type": "code",
   "execution_count": 19,
   "metadata": {
    "colab": {
     "base_uri": "https://localhost:8080/"
    },
    "executionInfo": {
     "elapsed": 43,
     "status": "ok",
     "timestamp": 1687415105311,
     "user": {
      "displayName": "ppen hyuk",
      "userId": "06590780498642875598"
     },
     "user_tz": -540
    },
    "id": "Lc1zek5ZlLiN",
    "outputId": "8dff97d6-2169-4e93-f591-e795c1899d1b"
   },
   "outputs": [
    {
     "name": "stdout",
     "output_type": "stream",
     "text": [
      "[0. 0. 0. 0. 0.]\n",
      "[[0 0 0]\n",
      " [0 0 0]]\n",
      "[1. 1. 1. 1. 1.]\n",
      "[[0. 0. 0.]\n",
      " [0. 0. 0.]\n",
      " [0. 0. 0.]]\n",
      "[3 5 7 9]\n",
      "[0.  0.1 0.2 0.3 0.4 0.5 0.6 0.7 0.8 0.9]\n",
      "[0.  0.1 0.2 0.3 0.4 0.5 0.6 0.7 0.8 0.9]\n"
     ]
    }
   ],
   "source": [
    "print(np.zeros(5))\n",
    "print(np.zeros_like(A))\n",
    "print(np.ones(5))\n",
    "print(np.zeros((3,3))) # 튜플을 입력으로! 그냥 np.zeros(3,3)은 안돼요\n",
    "print(np.arange(3,10,2)) # range랑 같은데 array로 만들어줌\n",
    "print(np.arange(0,1,0.1)) # 소수점 가능\n",
    "print(np.linspace(0,1,10, endpoint=False)) # 0 에서부터 1 포함(default) 10개로"
   ]
  },
  {
   "cell_type": "code",
   "execution_count": 20,
   "metadata": {
    "colab": {
     "base_uri": "https://localhost:8080/"
    },
    "executionInfo": {
     "elapsed": 41,
     "status": "ok",
     "timestamp": 1687415105311,
     "user": {
      "displayName": "ppen hyuk",
      "userId": "06590780498642875598"
     },
     "user_tz": -540
    },
    "id": "gA0Xnd6Dle6u",
    "outputId": "c19890cf-ff37-4486-fede-6cfbdf033f8e"
   },
   "outputs": [
    {
     "name": "stdout",
     "output_type": "stream",
     "text": [
      "[5 7 9]\n"
     ]
    }
   ],
   "source": [
    "a=np.array([1,2,3])\n",
    "b=np.array([4,5,6])\n",
    "c=a+b\n",
    "print(c) # 드디어! 양 옆으로 길어지는 게 아닌 벡터의 합이 나옴!"
   ]
  },
  {
   "cell_type": "code",
   "execution_count": 21,
   "metadata": {
    "colab": {
     "base_uri": "https://localhost:8080/"
    },
    "executionInfo": {
     "elapsed": 40,
     "status": "ok",
     "timestamp": 1687415105312,
     "user": {
      "displayName": "ppen hyuk",
      "userId": "06590780498642875598"
     },
     "user_tz": -540
    },
    "id": "p0sTGxn7mlvH",
    "outputId": "f323d7d0-630d-4bac-e185-dc19094d5a1a"
   },
   "outputs": [
    {
     "name": "stdout",
     "output_type": "stream",
     "text": [
      "[[5 7 9]\n",
      " [2 3 4]]\n",
      "[[-3 -3 -3]\n",
      " [ 0  1  2]]\n",
      "\n",
      "[[ 4 10 18]\n",
      " [ 1  2  3]]\n",
      "[[0.25 0.4  0.5 ]\n",
      " [1.   2.   3.  ]]\n",
      "[[16 25 36]\n",
      " [ 1  1  1]]\n"
     ]
    }
   ],
   "source": [
    "A=np.array([[1,2,3],[1,2,3]])\n",
    "B=np.array([[4,5,6],[1,1,1]])\n",
    "C=A+B\n",
    "D=A-B\n",
    "print(C)\n",
    "print(D)\n",
    "print()\n",
    "print(A*B) # 곱셈은? 성분끼리의 곱! (Hadamard product)\n",
    "print(A/B) # 나누기도 마찬가지\n",
    "print(B**2) # 제곱도 각 성분에 대해서 해준다"
   ]
  },
  {
   "cell_type": "code",
   "execution_count": 22,
   "metadata": {
    "colab": {
     "base_uri": "https://localhost:8080/"
    },
    "executionInfo": {
     "elapsed": 39,
     "status": "ok",
     "timestamp": 1687415105312,
     "user": {
      "displayName": "ppen hyuk",
      "userId": "06590780498642875598"
     },
     "user_tz": -540
    },
    "id": "U2CZ44Qwm3R3",
    "outputId": "f7692e5d-af0d-41d4-9b03-b609f676be67"
   },
   "outputs": [
    {
     "name": "stdout",
     "output_type": "stream",
     "text": [
      "[[ 1  4]\n",
      " [ 9 16]]\n",
      "[[ 7 10]\n",
      " [15 22]]\n"
     ]
    }
   ],
   "source": [
    "A=np.array([[1,2],[3,4]])\n",
    "B=np.array([[1,2],[3,4]])\n",
    "print(A*B)\n",
    "print(A@B) # 이게 진짜 행렬 곱하기"
   ]
  },
  {
   "cell_type": "markdown",
   "metadata": {
    "id": "wAGvr0jv03tF"
   },
   "source": [
    "## numpy 의 인덱싱과 슬라이싱"
   ]
  },
  {
   "cell_type": "code",
   "execution_count": 23,
   "metadata": {
    "colab": {
     "base_uri": "https://localhost:8080/"
    },
    "executionInfo": {
     "elapsed": 38,
     "status": "ok",
     "timestamp": 1687415105312,
     "user": {
      "displayName": "ppen hyuk",
      "userId": "06590780498642875598"
     },
     "user_tz": -540
    },
    "id": "NyIR-Ag3nXqe",
    "outputId": "c7e3159a-3d0b-4cd9-ad7e-bc26b6d2d90d"
   },
   "outputs": [
    {
     "name": "stdout",
     "output_type": "stream",
     "text": [
      "1\n",
      "2\n",
      "9\n",
      "[2 3 4]\n",
      "[8 9]\n",
      "[1 2 3 4 5 6 7]\n",
      "[1 2 3 4 5 6 7 8 9]\n"
     ]
    }
   ],
   "source": [
    "a=np.array([1,2,3,4,5,6,7,8,9])\n",
    "# 인덱싱과 슬라이싱, list할 때와 동일!\n",
    "print(a[0])\n",
    "print(a[1])\n",
    "print(a[-1])\n",
    "print(a[1:4])\n",
    "print(a[7:])\n",
    "print(a[:7])\n",
    "print(a[:])"
   ]
  },
  {
   "cell_type": "code",
   "execution_count": 43,
   "metadata": {
    "colab": {
     "base_uri": "https://localhost:8080/"
    },
    "executionInfo": {
     "elapsed": 347,
     "status": "ok",
     "timestamp": 1687416058811,
     "user": {
      "displayName": "ppen hyuk",
      "userId": "06590780498642875598"
     },
     "user_tz": -540
    },
    "id": "q1ckGh0Go69_",
    "outputId": "390ad82c-ce60-4790-ec59-dd9814f219dc"
   },
   "outputs": [
    {
     "name": "stdout",
     "output_type": "stream",
     "text": [
      "[1 2 3]\n",
      "[7 8 9]\n",
      "[[4 5 6]\n",
      " [7 8 9]]\n",
      "[[1 2 3]\n",
      " [4 5 6]\n",
      " [7 8 9]]\n",
      "3\n",
      "3\n",
      "[[1, 2, 3, 4], [5, 6, 7, 8]]\n",
      "3\n",
      "[4 5 6]\n",
      "[4 6]\n",
      "[3 6 9]\n"
     ]
    }
   ],
   "source": [
    "# 행렬에 대한 인덱싱과 슬라이싱\n",
    "A=np.array([[1,2,3],[4,5,6],[7,8,9]])\n",
    "print(A[0]) # 하나만 쓰면 행에 대한 인덱싱 (리스트 속 리스트 생각)\n",
    "print(A[-1])\n",
    "print(A[1:])\n",
    "print(A[:])\n",
    "print(A[0][2])\n",
    "print(A[0,2]) # 2차원 행렬도 동일한데, 리스트와 달리 이런 것도 됨\n",
    "B=[[1,2,3,4], [5,6,7,8]]\n",
    "print(B)\n",
    "print(B[0][2])\n",
    "# print(B[0,2]) # error!\n",
    "print(A[1,:]) # 1 행, 전부\n",
    "print(A[1,0:3:2])\n",
    "print(A[:,2]) # 전부, 2 열"
   ]
  },
  {
   "cell_type": "code",
   "execution_count": 44,
   "metadata": {
    "colab": {
     "base_uri": "https://localhost:8080/"
    },
    "executionInfo": {
     "elapsed": 257,
     "status": "ok",
     "timestamp": 1687416252442,
     "user": {
      "displayName": "ppen hyuk",
      "userId": "06590780498642875598"
     },
     "user_tz": -540
    },
    "id": "g-uH286mbo_D",
    "outputId": "49a3fdec-4787-407f-8b3f-49fd1507eaa3"
   },
   "outputs": [
    {
     "name": "stdout",
     "output_type": "stream",
     "text": [
      "[[[ 0  1  2  3]\n",
      "  [ 4  5  6  7]\n",
      "  [ 8  9 10 11]]\n",
      "\n",
      " [[12 13 14 15]\n",
      "  [16 17 18 19]\n",
      "  [20 21 22 23]]]\n",
      "(2, 3, 4)\n",
      "6\n",
      "(1, 1, 4)\n"
     ]
    }
   ],
   "source": [
    "# 3차원 행렬 인덱싱\n",
    "A=np.array([ [[0,1,2,3],[4,5,6,7],[8,9,10,11]] ,\n",
    "             [[12,13,14,15],[16,17,18,19],[20,21,22,23]] ])\n",
    "print(A)\n",
    "print(A.shape)\n",
    "print(A[0,1,2])\n",
    "\n",
    "a=np.array([[[1,2,3,4]]]) # 대괄호가 하나 늘어나면 왼쪽에 shape 값이 추가 된다.\n",
    "print(a.shape)"
   ]
  },
  {
   "cell_type": "code",
   "execution_count": 26,
   "metadata": {
    "colab": {
     "base_uri": "https://localhost:8080/"
    },
    "executionInfo": {
     "elapsed": 32,
     "status": "ok",
     "timestamp": 1687415105313,
     "user": {
      "displayName": "ppen hyuk",
      "userId": "06590780498642875598"
     },
     "user_tz": -540
    },
    "id": "kbY8JDDmrM7G",
    "outputId": "d5ef910a-3f95-4d9a-ec7f-ebc1fff0dd46"
   },
   "outputs": [
    {
     "name": "stdout",
     "output_type": "stream",
     "text": [
      "False\n",
      "[[False False  True False]\n",
      " [False  True False  True]]\n",
      "[3 3 3]\n",
      "[[  1   2   3 100]\n",
      " [100   3 100   3]]\n",
      "[[1 2]\n",
      " [7 8]]\n",
      "[1 2]\n"
     ]
    }
   ],
   "source": [
    "# boolean 인덱싱\n",
    "a=[1,2,3,4,5,3,3]\n",
    "print(a==3) # 여러개 값 들어있는 리스트랑 3 달랑 하나랑 같냐? 다르다!\n",
    "A=np.array([[1,2,3,4],[5,3,7,3]])\n",
    "print(A==3) # 리스트와 달리 각 성분에 대해 비교해줌\n",
    "print(A[A==3]) # True, False가 담긴 행렬로 인덱싱 가능!!\n",
    "\n",
    "A[A>3] = 100\n",
    "print(A) # 그러면 이런 것도 가능하다! (3보다 큰 애들을 100으로 바꿔줘)\n",
    "\n",
    "A=np.array([[1,2],[3,4],[5,6],[7,8]])\n",
    "B=np.array([True, False, False, True]) # 참고로 그냥 리스트여도 됨\n",
    "print(A[B,:]) # 0행, 3행 슬라이싱\n",
    "\n",
    "b=np.array([1,2,3,4])\n",
    "print(b[[True,True,False,False]])\n",
    "c=[1,2,3,4]\n",
    "# c[[True,True,False,False]] # error!"
   ]
  },
  {
   "cell_type": "code",
   "execution_count": 27,
   "metadata": {
    "colab": {
     "base_uri": "https://localhost:8080/"
    },
    "executionInfo": {
     "elapsed": 30,
     "status": "ok",
     "timestamp": 1687415105313,
     "user": {
      "displayName": "ppen hyuk",
      "userId": "06590780498642875598"
     },
     "user_tz": -540
    },
    "id": "-SJA3ixWUAjH",
    "outputId": "6eb14cc6-5090-4ce8-fc5b-c106151965dd"
   },
   "outputs": [
    {
     "name": "stdout",
     "output_type": "stream",
     "text": [
      "3\n",
      "3\n",
      "[3 4 5]\n",
      "[[3 3 3]\n",
      " [4 4 4]]\n",
      "[1 2 3]\n",
      "(2, 2, 3)\n",
      "[[[1 2 3]\n",
      "  [4 5 6]]\n",
      "\n",
      " [[4 5 6]\n",
      "  [4 5 6]]]\n"
     ]
    }
   ],
   "source": [
    "# array로 인덱싱\n",
    "a=np.array([1,2,3,4,5])\n",
    "A=a[2]\n",
    "print(A)\n",
    "A=a[ np.array(2) ] # np.array를 안에다가?\n",
    "print(A)\n",
    "A=a[ np.array([2,3,4]) ]\n",
    "print(A)\n",
    "A=a[ np.array([[2,2,2],[3,3,3]]) ]\n",
    "print(A) # 인덱싱된 애들로 2행 3열짜리 행렬을 만든다\n",
    "\n",
    "a=[1,2,3]\n",
    "# a[ [1,1,1,1,2,2,2] ] # error!\n",
    "\n",
    "a=np.array([[1,2,3],[4,5,6]])\n",
    "print(a[0])\n",
    "A=a[ np.array([[0,1],[1,1]]) ]\n",
    "print(A.shape) # 예를 들어, a[0] = array([1,2,3])과 같이 1차원 데이터이므로 한 차원이 뒤에 늘어나서 2,2, \"3\" 이 된다!\n",
    "print(A) # segmentation 결과 그림 보여줄 때 사용!"
   ]
  },
  {
   "cell_type": "code",
   "execution_count": 45,
   "metadata": {
    "colab": {
     "base_uri": "https://localhost:8080/"
    },
    "executionInfo": {
     "elapsed": 264,
     "status": "ok",
     "timestamp": 1687417936201,
     "user": {
      "displayName": "ppen hyuk",
      "userId": "06590780498642875598"
     },
     "user_tz": -540
    },
    "id": "DReUD5-5okgr",
    "outputId": "19b4dc1f-43b8-40ea-ce3f-1c17d24cd955"
   },
   "outputs": [
    {
     "name": "stdout",
     "output_type": "stream",
     "text": [
      "[[1 2]\n",
      " [3 4]\n",
      " [5 6]\n",
      " [7 8]]\n",
      "(4, 2)\n",
      "2\n",
      "[2]\n",
      "[2]\n",
      "[2]\n",
      "[[3 4]\n",
      " [3 4]\n",
      " [5 6]\n",
      " [5 6]\n",
      " [5 6]]\n"
     ]
    }
   ],
   "source": [
    "A=np.array([[1,2],[3,4],[5,6],[7,8]])\n",
    "print(A)\n",
    "print(A.shape)\n",
    "\n",
    "# 1. A[몇 번째 행이냐, 몇 번째 열이냐]\n",
    "print(A[0,1])\n",
    "# 2. A[ array(bool) ] => A와 같은 shape을 가지는 array형 bool이 어디에 True를 가지고 있냐\n",
    "print(A[ np.array([[False,True],[False,False],[False,False],[False,False]]) ])\n",
    "print(A[A==2])\n",
    "# 3. A[몇 번째 값에 True가 있냐, 몇 번째 값에 True가 있냐]\n",
    "print(A[ [True,False,False,False], [False,True] ])\n",
    "# 4. A[ array ] # 몇 번째 것을 어떻게 쌓을거냐\n",
    "print(A[ np.array([1,1,2,2,2]) ])"
   ]
  },
  {
   "cell_type": "markdown",
   "metadata": {
    "id": "2gepSsbt2cgR"
   },
   "source": [
    "## numpy의 여러 함수들"
   ]
  },
  {
   "cell_type": "code",
   "execution_count": 46,
   "metadata": {
    "colab": {
     "base_uri": "https://localhost:8080/"
    },
    "executionInfo": {
     "elapsed": 3,
     "status": "ok",
     "timestamp": 1687417972493,
     "user": {
      "displayName": "ppen hyuk",
      "userId": "06590780498642875598"
     },
     "user_tz": -540
    },
    "id": "ustWVGixrwbX",
    "outputId": "a21907a8-9a90-4a62-8c9c-f16b9d2e2bc4"
   },
   "outputs": [
    {
     "name": "stdout",
     "output_type": "stream",
     "text": [
      "[[-0.30658897  0.28635368  0.03376301]\n",
      " [-0.5178321   0.17014448 -0.10207196]\n",
      " [-1.70340109  0.11565952  0.17297407]]\n",
      "[[0.49243143 0.32059899 0.72556028]\n",
      " [0.34122382 0.87123459 0.60755418]\n",
      " [0.14950483 0.36276218 0.21078418]]\n",
      "[[-0.30658897  0.28635368  0.03376301]\n",
      " [-0.5178321   0.17014448 -0.10207196]\n",
      " [-1.70340109  0.11565952  0.17297407]]\n"
     ]
    }
   ],
   "source": [
    "A=np.random.randn(3,3) # 여긴 튜플로 안줘도 됨\n",
    "B=np.random.rand(3,3)\n",
    "print(A)\n",
    "print(B)\n",
    "print(A[A[:,0]<0,:]) # 0 번째 열이 음수인 행들 # 내 필기용"
   ]
  },
  {
   "cell_type": "code",
   "execution_count": 47,
   "metadata": {
    "colab": {
     "base_uri": "https://localhost:8080/"
    },
    "executionInfo": {
     "elapsed": 260,
     "status": "ok",
     "timestamp": 1687418056158,
     "user": {
      "displayName": "ppen hyuk",
      "userId": "06590780498642875598"
     },
     "user_tz": -540
    },
    "id": "q5mM8G2osPVA",
    "outputId": "22b61445-cbfc-4019-abf0-3c175a344a3f"
   },
   "outputs": [
    {
     "name": "stdout",
     "output_type": "stream",
     "text": [
      "[[ 0.11078521  0.60174829  0.59603238]\n",
      " [ 0.42571241 -0.05373125  1.41520947]\n",
      " [-0.75911303  0.20203784 -0.90035324]]\n",
      "[[0.11078521 0.60174829 0.59603238]\n",
      " [0.42571241 0.05373125 1.41520947]\n",
      " [0.75911303 0.20203784 0.90035324]]\n",
      "[[0.33284412 0.77572437 0.77203134]\n",
      " [0.65246641 0.23180003 1.18962577]\n",
      " [0.87127093 0.4494862  0.94886945]]\n",
      "[[1.11715493 1.82530718 1.81490366]\n",
      " [1.53068051 0.94768676 4.11734885]\n",
      " [0.46808142 1.22389432 0.40642607]]\n",
      "[[-2.200162   -0.50791604 -0.51746028]\n",
      " [-0.85399124 -2.92376043  0.34727756]\n",
      " [-0.2756046  -1.59930025 -0.10496811]]\n",
      "1.0\n",
      "1.0\n",
      "1.0\n",
      "[[ 0.  1.  1.]\n",
      " [ 0. -0.  1.]\n",
      " [-1.  0. -1.]]\n",
      "[[ 0.11  0.6   0.6 ]\n",
      " [ 0.43 -0.05  1.42]\n",
      " [-0.76  0.2  -0.9 ]]\n",
      "[[ 0.  0.  0.]\n",
      " [ 0. -1.  1.]\n",
      " [-1.  0. -1.]]\n",
      "[[ 1.  1.  1.]\n",
      " [ 1. -0.  2.]\n",
      " [-0.  1. -0.]]\n"
     ]
    }
   ],
   "source": [
    "A=np.random.randn(3,3)\n",
    "print(A)\n",
    "print(np.abs(A))\n",
    "print(np.sqrt(np.abs(A)))\n",
    "print(np.exp(A))\n",
    "print(np.log(np.abs(A)))\n",
    "print(np.log(np.exp(1))) # np.exp(1) = e^1\n",
    "print(np.log10(10))\n",
    "print(np.log2(2))\n",
    "print(np.round(A)) # 반올림\n",
    "print(np.round(A,2)) # 소수점 둘째자리까지\n",
    "print(np.floor(A)) # 내림\n",
    "print(np.ceil(A)) # 올림"
   ]
  },
  {
   "cell_type": "code",
   "execution_count": 31,
   "metadata": {
    "colab": {
     "base_uri": "https://localhost:8080/"
    },
    "executionInfo": {
     "elapsed": 25,
     "status": "ok",
     "timestamp": 1687415105314,
     "user": {
      "displayName": "ppen hyuk",
      "userId": "06590780498642875598"
     },
     "user_tz": -540
    },
    "id": "I4Y6n35nwXfX",
    "outputId": "203542d1-5799-4279-e820-aad3803af9d3"
   },
   "outputs": [
    {
     "name": "stdout",
     "output_type": "stream",
     "text": [
      "0.49999999999999994\n",
      "0.5000000000000001\n",
      "0.9999999999999999\n",
      "-0.9999999958776927\n"
     ]
    }
   ],
   "source": [
    "print(np.sin(np.pi/6))\n",
    "print(np.cos(np.pi/3))\n",
    "print(np.tan(np.pi/4))\n",
    "print(np.tanh(-10))"
   ]
  },
  {
   "cell_type": "code",
   "execution_count": 32,
   "metadata": {
    "colab": {
     "base_uri": "https://localhost:8080/"
    },
    "executionInfo": {
     "elapsed": 24,
     "status": "ok",
     "timestamp": 1687415105314,
     "user": {
      "displayName": "ppen hyuk",
      "userId": "06590780498642875598"
     },
     "user_tz": -540
    },
    "id": "z4b8wwrjwYTp",
    "outputId": "86ad98b6-a409-40e8-9448-3c8d1447afff"
   },
   "outputs": [
    {
     "name": "stdout",
     "output_type": "stream",
     "text": [
      "[False False  True False False]\n",
      "[False False False False  True]\n"
     ]
    }
   ],
   "source": [
    "np.nan # not a number\n",
    "# np.log(-1)\n",
    "print(np.isnan([1,2,np.nan,3,4]))\n",
    "print(np.isinf([1,2,3,4,np.inf]))"
   ]
  },
  {
   "cell_type": "code",
   "execution_count": 33,
   "metadata": {
    "colab": {
     "base_uri": "https://localhost:8080/"
    },
    "executionInfo": {
     "elapsed": 22,
     "status": "ok",
     "timestamp": 1687415105314,
     "user": {
      "displayName": "ppen hyuk",
      "userId": "06590780498642875598"
     },
     "user_tz": -540
    },
    "id": "DEF5FT5tx8vy",
    "outputId": "16c67e67-c618-4487-f928-6eb2e8559c88"
   },
   "outputs": [
    {
     "name": "stdout",
     "output_type": "stream",
     "text": [
      "[[-0.50060738 -0.02740052 -0.95781451  0.10532711]\n",
      " [-0.17712324  2.22440341 -0.78971358 -0.6569764 ]\n",
      " [-0.45371568 -0.89446216  0.57765894  1.30635986]]\n",
      "2.224403414414483\n",
      "[-0.17712324  2.22440341  0.57765894  1.30635986]\n",
      "[0.10532711 2.22440341 1.30635986]\n",
      "[[-0.17712324  2.22440341  0.57765894  1.30635986]]\n",
      "[[0.10532711]\n",
      " [2.22440341]\n",
      " [1.30635986]]\n",
      "-0.9578145141919996\n",
      "[-0.50060738 -0.89446216 -0.95781451 -0.6569764 ]\n",
      "[-0.95781451 -0.78971358 -0.89446216]\n",
      "5\n",
      "[1 1 2 2]\n",
      "[3 1 3]\n"
     ]
    }
   ],
   "source": [
    "A=np.random.randn(3,4)\n",
    "print(A)\n",
    "print(np.max(A))\n",
    "print(np.max(A,axis=0))\n",
    "print(np.max(A,axis=1)) # 1D array로 바꿔버림\n",
    "print(np.max(A,axis=0, keepdims=True))\n",
    "print(np.max(A,axis=1, keepdims=True)) # 3 행 1열 짜리 2D array\n",
    "print(np.min(A))\n",
    "print(np.min(A,axis=0))\n",
    "print(np.min(A,axis=1))\n",
    "print(np.argmax(A))\n",
    "print(np.argmax(A,axis=0)) # 각 열에서 가장 큰 애가 존재하는 인덱스\n",
    "print(np.argmax(A,axis=1)) # 각 행에서 가장 큰 애가 존재하는 인덱스"
   ]
  },
  {
   "cell_type": "code",
   "execution_count": 34,
   "metadata": {
    "colab": {
     "base_uri": "https://localhost:8080/"
    },
    "executionInfo": {
     "elapsed": 19,
     "status": "ok",
     "timestamp": 1687415105314,
     "user": {
      "displayName": "ppen hyuk",
      "userId": "06590780498642875598"
     },
     "user_tz": -540
    },
    "id": "6TB-eeVUFbjh",
    "outputId": "6e1059dc-4478-4cc0-ec18-dfbac9833508"
   },
   "outputs": [
    {
     "name": "stdout",
     "output_type": "stream",
     "text": [
      "[[ 0.41119612]\n",
      " [ 1.61700111]\n",
      " [ 1.72236705]\n",
      " [-0.11267728]\n",
      " [-0.63586377]\n",
      " [ 0.50352467]]\n",
      "[[-0.63586377]\n",
      " [-0.11267728]\n",
      " [ 0.41119612]\n",
      " [ 0.50352467]\n",
      " [ 1.61700111]\n",
      " [ 1.72236705]]\n",
      "[[ 1.72236705]\n",
      " [ 1.61700111]\n",
      " [ 0.50352467]\n",
      " [ 0.41119612]\n",
      " [-0.11267728]\n",
      " [-0.63586377]]\n",
      "[[-0.61735785]\n",
      " [-2.44697405]\n",
      " [ 1.8602477 ]\n",
      " [ 1.65973558]\n",
      " [ 0.4004347 ]\n",
      " [ 2.11421477]]\n",
      "None\n",
      "2.1142147672624287\n",
      "2.1142147672624287\n"
     ]
    }
   ],
   "source": [
    "a=np.random.randn(6,1)\n",
    "print(a)\n",
    "a_sorted=np.sort(a,axis=0)\n",
    "print(a_sorted)\n",
    "print(np.flipud(a_sorted))\n",
    "\n",
    "a=np.random.randn(6,1)\n",
    "print(a)\n",
    "print(a.sort(axis=0))\n",
    "\n",
    "print(np.max(a))\n",
    "print(a.max())"
   ]
  },
  {
   "cell_type": "code",
   "execution_count": 35,
   "metadata": {
    "colab": {
     "base_uri": "https://localhost:8080/"
    },
    "executionInfo": {
     "elapsed": 306,
     "status": "ok",
     "timestamp": 1687415105602,
     "user": {
      "displayName": "ppen hyuk",
      "userId": "06590780498642875598"
     },
     "user_tz": -540
    },
    "id": "aMN5U4YEyFOp",
    "outputId": "4bcae3fd-c1b4-4b1d-8569-f5096a439550"
   },
   "outputs": [
    {
     "name": "stdout",
     "output_type": "stream",
     "text": [
      "[[ 1.54381045  0.76625545  1.25123123  0.57664536]\n",
      " [-0.42747096 -0.41064231 -0.57555395 -1.14998862]\n",
      " [ 0.31903559 -0.56093214 -0.93491514  0.40731967]]\n",
      "0.8047946402866375\n",
      "[ 4.1379425  -2.56365584 -0.76949202]\n",
      "[[ 4.1379425 ]\n",
      " [-2.56365584]\n",
      " [-0.76949202]]\n",
      "0.06706622002388646\n",
      "[ 1.03448562 -0.64091396 -0.192373  ]\n",
      "[[ 1.03448562]\n",
      " [-0.64091396]\n",
      " [-0.192373  ]]\n",
      "0.8304678377836144\n",
      "[[ 4.1379425 ]\n",
      " [-2.56365584]\n",
      " [-0.76949202]]\n",
      "[[ 1.03448562]\n",
      " [-0.64091396]\n",
      " [-0.192373  ]]\n",
      "0.8304678377836144\n"
     ]
    }
   ],
   "source": [
    "A=np.random.randn(3,4)\n",
    "print(A)\n",
    "print(np.sum(A))\n",
    "print(np.sum(A,axis=1))\n",
    "print(np.sum(A,axis=1,keepdims=True))\n",
    "print(np.mean(A))\n",
    "print(np.mean(A,axis=1))\n",
    "print(np.mean(A,axis=1,keepdims=True))\n",
    "print(np.std(A)) # standard deviation 표준 편차\n",
    "\n",
    "print(A.sum(axis=1, keepdims=True))\n",
    "print(A.mean(axis=1, keepdims=True))\n",
    "print(A.std())"
   ]
  },
  {
   "cell_type": "code",
   "execution_count": 36,
   "metadata": {
    "colab": {
     "base_uri": "https://localhost:8080/"
    },
    "executionInfo": {
     "elapsed": 17,
     "status": "ok",
     "timestamp": 1687415105602,
     "user": {
      "displayName": "ppen hyuk",
      "userId": "06590780498642875598"
     },
     "user_tz": -540
    },
    "id": "ypjj3lXF0GC6",
    "outputId": "d7039426-88f6-4cbc-a039-50b10ed75ddc"
   },
   "outputs": [
    {
     "name": "stdout",
     "output_type": "stream",
     "text": [
      "[4 4 2 4 1 3 1 4 3 1 4 4]\n",
      "(12,)\n",
      "[[[4 4 2]\n",
      "  [4 1 3]]\n",
      "\n",
      " [[1 4 3]\n",
      "  [1 4 4]]]\n",
      "3\n"
     ]
    }
   ],
   "source": [
    "A=np.random.randint(1,5,size=(12,)) # 1부터 5미만 12개 정수 (1 차원은 (N,) 과 같이 표현)\n",
    "print(A)\n",
    "print(A.shape)\n",
    "\n",
    "B=A.reshape(2,2,3)\n",
    "print(B)\n",
    "print(B.ndim) # 3 차원 행렬이다"
   ]
  },
  {
   "cell_type": "code",
   "execution_count": 37,
   "metadata": {
    "colab": {
     "base_uri": "https://localhost:8080/"
    },
    "executionInfo": {
     "elapsed": 15,
     "status": "ok",
     "timestamp": 1687415105602,
     "user": {
      "displayName": "ppen hyuk",
      "userId": "06590780498642875598"
     },
     "user_tz": -540
    },
    "id": "229OZXqR77Er",
    "outputId": "99f81410-f06a-460b-f7d4-87b327a28193"
   },
   "outputs": [
    {
     "name": "stdout",
     "output_type": "stream",
     "text": [
      "9\n",
      "[[9]]\n",
      "[[9]]\n",
      "(4, 6, 3)\n"
     ]
    }
   ],
   "source": [
    "a=np.array([1,2,3])\n",
    "b=np.array([2,2,1])\n",
    "print(np.sum(a*b))\n",
    "\n",
    "a=a.reshape(3,1)\n",
    "b=b.reshape(3,1)\n",
    "print(a.transpose()@b)\n",
    "print(a.T@b)\n",
    "\n",
    "A=np.random.randn(4,3,6)\n",
    "print(A.transpose(0,2,1).shape)"
   ]
  },
  {
   "cell_type": "code",
   "execution_count": 38,
   "metadata": {
    "colab": {
     "base_uri": "https://localhost:8080/"
    },
    "executionInfo": {
     "elapsed": 14,
     "status": "ok",
     "timestamp": 1687415105603,
     "user": {
      "displayName": "ppen hyuk",
      "userId": "06590780498642875598"
     },
     "user_tz": -540
    },
    "id": "whCJFs0h-Zpa",
    "outputId": "8b9511b9-9077-45d5-9eb6-79f2e5e5055f"
   },
   "outputs": [
    {
     "name": "stdout",
     "output_type": "stream",
     "text": [
      "[ 0  1  2  3  4  5  6  7  8  9 10 11 12 13 14 15 16 17 18 19]\n",
      "[[ 0  1  2  3  4]\n",
      " [ 5  6  7  8  9]\n",
      " [10 11 12 13 14]\n",
      " [15 16 17 18 19]]\n",
      "(4, 5)\n",
      "(2, 5, 2)\n",
      "(2, 2, 5)\n",
      "(1, 20)\n",
      "(20, 1)\n"
     ]
    }
   ],
   "source": [
    "A=np.arange(20)\n",
    "print(A)\n",
    "print(A.reshape(4,5))\n",
    "print(A.reshape(4,-1).shape) # 4개 행이 될 수 있도록 열의 수를 맞춰라\n",
    "print(A.reshape(2,5,-1).shape)\n",
    "print(A.reshape(2,-1,5).shape)\n",
    "print(A.reshape(1,-1).shape) # 2차원 행 벡터\n",
    "print(A.reshape(-1,1).shape) # 2차원 열 벡터"
   ]
  },
  {
   "cell_type": "code",
   "execution_count": 39,
   "metadata": {
    "colab": {
     "base_uri": "https://localhost:8080/"
    },
    "executionInfo": {
     "elapsed": 12,
     "status": "ok",
     "timestamp": 1687415105603,
     "user": {
      "displayName": "ppen hyuk",
      "userId": "06590780498642875598"
     },
     "user_tz": -540
    },
    "id": "j5ohZnX297fh",
    "outputId": "922162a1-1a37-4aae-a007-28acacecca3f"
   },
   "outputs": [
    {
     "name": "stdout",
     "output_type": "stream",
     "text": [
      "(4, 5, 6)\n",
      "(4, 5, 6)\n",
      "(2, 3, 4, 5)\n",
      "(2, 3, 4, 5)\n",
      "(3, 4, 6)\n",
      "(3, 4, 6)\n"
     ]
    }
   ],
   "source": [
    "x=np.random.randn(2,3,4,5,6)\n",
    "print(x[1,2,:,:,:].shape)\n",
    "print(x[1,2,...].shape) # x[1, 2, …] 는 x[1, 2, :, :, :] 와 같습니다.\n",
    "print(x[:,:,:,:,3].shape)\n",
    "print(x[...,3].shape) # x[…, 3] 는 x[:, :, :, :, 3] 와 같습니다.\n",
    "print(x[1,:,:,3,:].shape)\n",
    "print(x[1,...,3,:].shape) # x[1, …, 3, :] 는 x[1, :, :, 3, :] 와 같습니다."
   ]
  },
  {
   "cell_type": "code",
   "execution_count": 40,
   "metadata": {
    "colab": {
     "base_uri": "https://localhost:8080/"
    },
    "executionInfo": {
     "elapsed": 11,
     "status": "ok",
     "timestamp": 1687415105603,
     "user": {
      "displayName": "ppen hyuk",
      "userId": "06590780498642875598"
     },
     "user_tz": -540
    },
    "id": "H1WZmF-n_sTF",
    "outputId": "3ee22b12-bbc8-41f5-83bd-5ef4b498bb0c"
   },
   "outputs": [
    {
     "name": "stdout",
     "output_type": "stream",
     "text": [
      "[[1. 1. 1. 1.]\n",
      " [1. 1. 1. 1.]\n",
      " [1. 1. 1. 1.]\n",
      " [0. 0. 0. 0.]\n",
      " [0. 0. 0. 0.]\n",
      " [0. 0. 0. 0.]]\n",
      "[[1. 1. 1. 1. 0. 0. 0. 0.]\n",
      " [1. 1. 1. 1. 0. 0. 0. 0.]\n",
      " [1. 1. 1. 1. 0. 0. 0. 0.]]\n",
      "[[1. 1. 1. 1.]\n",
      " [1. 1. 1. 1.]\n",
      " [1. 1. 1. 1.]\n",
      " [0. 0. 0. 0.]\n",
      " [0. 0. 0. 0.]\n",
      " [0. 0. 0. 0.]]\n",
      "[[1. 1. 1. 1. 0. 0. 0. 0.]\n",
      " [1. 1. 1. 1. 0. 0. 0. 0.]\n",
      " [1. 1. 1. 1. 0. 0. 0. 0.]]\n",
      "[[[1. 1. 1. 1.]\n",
      "  [1. 1. 1. 1.]\n",
      "  [1. 1. 1. 1.]]\n",
      "\n",
      " [[0. 0. 0. 0.]\n",
      "  [0. 0. 0. 0.]\n",
      "  [0. 0. 0. 0.]]]\n"
     ]
    }
   ],
   "source": [
    "A=np.ones((3,4))\n",
    "B=np.zeros((3,4))\n",
    "C=np.vstack([A,B])\n",
    "D=np.hstack([A,B])\n",
    "E=np.block([[A],[B]])\n",
    "F=np.block([A,B])\n",
    "G=np.block([ [[A]], [[B]] ])\n",
    "\n",
    "print(C)\n",
    "print(D)\n",
    "print(E)\n",
    "print(F)\n",
    "print(G)"
   ]
  },
  {
   "cell_type": "code",
   "execution_count": 41,
   "metadata": {
    "colab": {
     "base_uri": "https://localhost:8080/"
    },
    "executionInfo": {
     "elapsed": 11,
     "status": "ok",
     "timestamp": 1687415105604,
     "user": {
      "displayName": "ppen hyuk",
      "userId": "06590780498642875598"
     },
     "user_tz": -540
    },
    "id": "aby_Q8mPsWXe",
    "outputId": "ca3f6b0b-90cd-43ff-8613-49e4e7b90152"
   },
   "outputs": [
    {
     "name": "stdout",
     "output_type": "stream",
     "text": [
      "(1, 1, 1, 3, 1, 1, 4, 1)\n",
      "(3, 4)\n",
      "(1, 3, 4, 1)\n"
     ]
    }
   ],
   "source": [
    "A = np.random.randn(1,1,1,3,1,1,4,1)\n",
    "# print(A)\n",
    "print(A.shape)\n",
    "print(A.squeeze().shape)\n",
    "print(A.squeeze(axis=(0,2,4,5)).shape)"
   ]
  },
  {
   "cell_type": "code",
   "execution_count": 42,
   "metadata": {
    "colab": {
     "base_uri": "https://localhost:8080/"
    },
    "executionInfo": {
     "elapsed": 10,
     "status": "ok",
     "timestamp": 1687415105604,
     "user": {
      "displayName": "ppen hyuk",
      "userId": "06590780498642875598"
     },
     "user_tz": -540
    },
    "id": "6KrOVi7Rys-h",
    "outputId": "4646f2d5-9660-4cea-993c-db31d6413aaf"
   },
   "outputs": [
    {
     "name": "stdout",
     "output_type": "stream",
     "text": [
      "(1, 3, 4)\n",
      "(3, 4, 1)\n",
      "(3, 1, 4)\n",
      "(1, 3, 4)\n",
      "(3, 4, 1)\n",
      "(3, 1, 4)\n",
      "(1, 3, 4)\n",
      "(3, 4, 1)\n",
      "(3, 1, 4)\n"
     ]
    }
   ],
   "source": [
    "A = np.random.randn(3,4)\n",
    "A1 = A[np.newaxis,...] # np.newaxis is None <- True\n",
    "print(A1.shape)\n",
    "A2 = A[...,np.newaxis]\n",
    "print(A2.shape)\n",
    "A3 = A[:,np.newaxis,:]\n",
    "print(A3.shape)\n",
    "A1 = np.expand_dims(A,axis=0)\n",
    "print(A1.shape)\n",
    "A2 = np.expand_dims(A,axis=2)\n",
    "print(A2.shape)\n",
    "A3 = np.expand_dims(A,axis=1)\n",
    "print(A3.shape)\n",
    "A1 = A.reshape(1,3,4)\n",
    "print(A1.shape)\n",
    "A2 = A.reshape(3,4,1)\n",
    "print(A2.shape)\n",
    "A3 = A.reshape(3,1,4)\n",
    "print(A3.shape)"
   ]
  },
  {
   "cell_type": "code",
   "execution_count": 1,
   "metadata": {},
   "outputs": [],
   "source": [
    "#나도 이제 numpy 마스터"
   ]
  },
  {
   "cell_type": "code",
   "execution_count": null,
   "metadata": {},
   "outputs": [],
   "source": []
  }
 ],
 "metadata": {
  "colab": {
   "provenance": []
  },
  "kernelspec": {
   "display_name": "cwys",
   "language": "python",
   "name": "python3"
  },
  "language_info": {
   "codemirror_mode": {
    "name": "ipython",
    "version": 3
   },
   "file_extension": ".py",
   "mimetype": "text/x-python",
   "name": "python",
   "nbconvert_exporter": "python",
   "pygments_lexer": "ipython3",
   "version": "3.10.18"
  }
 },
 "nbformat": 4,
 "nbformat_minor": 0
}
